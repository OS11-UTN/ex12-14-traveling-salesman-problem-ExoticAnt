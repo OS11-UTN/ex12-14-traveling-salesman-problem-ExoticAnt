{
 "cells": [
  {
   "cell_type": "markdown",
   "metadata": {},
   "source": [
    "# OS11 - Exercise 13"
   ]
  },
  {
   "cell_type": "markdown",
   "metadata": {},
   "source": [
    "Solve the TSP with an original implementation of the genetic algorithm."
   ]
  },
  {
   "cell_type": "markdown",
   "metadata": {},
   "source": [
    "I have tested this algorithm with up to 100 cities and takes ~ half an hour to stop without problems."
   ]
  },
  {
   "cell_type": "code",
   "execution_count": 1,
   "metadata": {},
   "outputs": [],
   "source": [
    "from sympy import *"
   ]
  },
  {
   "cell_type": "code",
   "execution_count": 2,
   "metadata": {},
   "outputs": [],
   "source": [
    "import random"
   ]
  },
  {
   "cell_type": "code",
   "execution_count": 3,
   "metadata": {},
   "outputs": [],
   "source": [
    "import numpy as np"
   ]
  },
  {
   "cell_type": "code",
   "execution_count": 4,
   "metadata": {},
   "outputs": [],
   "source": [
    "import scipy.linalg as linalg"
   ]
  },
  {
   "cell_type": "code",
   "execution_count": 5,
   "metadata": {},
   "outputs": [],
   "source": [
    "from scipy.optimize import linprog"
   ]
  },
  {
   "cell_type": "code",
   "execution_count": 6,
   "metadata": {},
   "outputs": [],
   "source": [
    "import matplotlib.pyplot as plt"
   ]
  },
  {
   "cell_type": "code",
   "execution_count": 7,
   "metadata": {},
   "outputs": [],
   "source": [
    "from matplotlib import collections  as mc"
   ]
  },
  {
   "cell_type": "code",
   "execution_count": 8,
   "metadata": {},
   "outputs": [],
   "source": [
    "import pylab as pl"
   ]
  },
  {
   "cell_type": "code",
   "execution_count": 9,
   "metadata": {},
   "outputs": [],
   "source": [
    "import math"
   ]
  },
  {
   "cell_type": "code",
   "execution_count": 10,
   "metadata": {},
   "outputs": [],
   "source": [
    "np.set_printoptions(threshold=1000)"
   ]
  },
  {
   "cell_type": "markdown",
   "metadata": {},
   "source": [
    "### Problem Data"
   ]
  },
  {
   "cell_type": "markdown",
   "metadata": {},
   "source": [
    "Size of area where random data point will be created:"
   ]
  },
  {
   "cell_type": "code",
   "execution_count": 11,
   "metadata": {},
   "outputs": [],
   "source": [
    "L = 100"
   ]
  },
  {
   "cell_type": "markdown",
   "metadata": {},
   "source": [
    "Number of random data points:"
   ]
  },
  {
   "cell_type": "code",
   "execution_count": 12,
   "metadata": {},
   "outputs": [],
   "source": [
    "N = 20"
   ]
  },
  {
   "cell_type": "markdown",
   "metadata": {},
   "source": [
    "Random seed:"
   ]
  },
  {
   "cell_type": "code",
   "execution_count": 13,
   "metadata": {},
   "outputs": [],
   "source": [
    "seed = '100'"
   ]
  },
  {
   "cell_type": "markdown",
   "metadata": {},
   "source": [
    "Population size:"
   ]
  },
  {
   "cell_type": "code",
   "execution_count": 14,
   "metadata": {},
   "outputs": [],
   "source": [
    "Z = 100"
   ]
  },
  {
   "cell_type": "markdown",
   "metadata": {},
   "source": [
    "Population random seed:"
   ]
  },
  {
   "cell_type": "code",
   "execution_count": 15,
   "metadata": {},
   "outputs": [],
   "source": [
    "pop_seed = '200'"
   ]
  },
  {
   "cell_type": "markdown",
   "metadata": {},
   "source": [
    "### New generation parameters"
   ]
  },
  {
   "cell_type": "code",
   "execution_count": 16,
   "metadata": {},
   "outputs": [],
   "source": [
    "elite_size = int(0.1*Z) "
   ]
  },
  {
   "cell_type": "code",
   "execution_count": 17,
   "metadata": {},
   "outputs": [],
   "source": [
    "mutation_thereshold = 0.5"
   ]
  },
  {
   "cell_type": "code",
   "execution_count": 18,
   "metadata": {},
   "outputs": [],
   "source": [
    "ramdon_selection_threshold = int(0.6*Z)   #new population members from elite_size up to random_selection_thereshold get selected by fitness random selection"
   ]
  },
  {
   "cell_type": "code",
   "execution_count": 19,
   "metadata": {},
   "outputs": [],
   "source": [
    "#rest of the members are created by crossover"
   ]
  },
  {
   "cell_type": "code",
   "execution_count": 20,
   "metadata": {},
   "outputs": [],
   "source": [
    "max_iterations_without_change = 1000"
   ]
  },
  {
   "cell_type": "markdown",
   "metadata": {},
   "source": [
    "### Data points creation"
   ]
  },
  {
   "cell_type": "code",
   "execution_count": 21,
   "metadata": {},
   "outputs": [],
   "source": [
    "random.seed(seed)\n",
    "\n",
    "points = [(random.randrange(L), random.randrange(L)) for i in range(N)]\n",
    "\n",
    "#points"
   ]
  },
  {
   "cell_type": "code",
   "execution_count": 22,
   "metadata": {},
   "outputs": [
    {
     "data": {
      "image/png": "[encoded data removed]",
      "text/plain": [
       "<Figure size 432x288 with 1 Axes>"
      ]
     },
     "metadata": {
      "needs_background": "light"
     },
     "output_type": "display_data"
    }
   ],
   "source": [
    "x, y = zip(*points)\n",
    "plt.scatter(x, y)\n",
    "plt.show()"
   ]
  },
  {
   "cell_type": "markdown",
   "metadata": {},
   "source": [
    "### Distances array precomputation"
   ]
  },
  {
   "cell_type": "markdown",
   "metadata": {},
   "source": [
    "At this stago I will not caveat with redundancy in distances matrix and so on."
   ]
  },
  {
   "cell_type": "code",
   "execution_count": 23,
   "metadata": {},
   "outputs": [],
   "source": [
    "def dist(a, b):\n",
    "    return math.sqrt((a[0]-b[0])**2 + (a[1]-b[1])**2)"
   ]
  },
  {
   "cell_type": "code",
   "execution_count": 24,
   "metadata": {},
   "outputs": [],
   "source": [
    "DD = np.zeros((N, N))"
   ]
  },
  {
   "cell_type": "code",
   "execution_count": 25,
   "metadata": {},
   "outputs": [],
   "source": [
    "for i in range(N):\n",
    "    for j in range(N):\n",
    "        DD[i, j] = dist(points[i], points[j])\n",
    "\n",
    "#DD"
   ]
  },
  {
   "cell_type": "markdown",
   "metadata": {},
   "source": [
    "### Initial population"
   ]
  },
  {
   "cell_type": "code",
   "execution_count": 26,
   "metadata": {},
   "outputs": [],
   "source": [
    "random.seed(pop_seed)"
   ]
  },
  {
   "cell_type": "code",
   "execution_count": 27,
   "metadata": {},
   "outputs": [],
   "source": [
    "def new_member(N):\n",
    "    member = np.array(random.sample(range(N), N)).astype(int)\n",
    "    return member"
   ]
  },
  {
   "cell_type": "code",
   "execution_count": 28,
   "metadata": {},
   "outputs": [
    {
     "data": {
      "text/plain": [
       "array([12,  9,  8, 19, 18,  2, 17,  0,  6,  4, 13, 11, 10, 16,  7,  1,  3,\n",
       "        5, 14, 15])"
      ]
     },
     "execution_count": 28,
     "metadata": {},
     "output_type": "execute_result"
    }
   ],
   "source": [
    "new_member(N)"
   ]
  },
  {
   "cell_type": "code",
   "execution_count": 29,
   "metadata": {},
   "outputs": [],
   "source": [
    "population = [new_member(N) for i in range(Z)]\n",
    "\n",
    "#population"
   ]
  },
  {
   "cell_type": "markdown",
   "metadata": {},
   "source": [
    "### Mutation function"
   ]
  },
  {
   "cell_type": "code",
   "execution_count": 30,
   "metadata": {},
   "outputs": [],
   "source": [
    "#thereshold is probability of member od being mutated, spread is the mean distante between shifts\n",
    "#where I want more shifts around consecutive nodes and less, but not 0, between separated nodes\n",
    "\n",
    "def mutate_member(m, thereshold = 0.05, spread = 2):\n",
    "    if random.random() > thereshold:\n",
    "        return m\n",
    "    o = random.randrange(N)\n",
    "    s = floor(random.gauss(0, spread))\n",
    "    d = (o + s)%N\n",
    "    m1 = m[o]\n",
    "    m[o] = m[d]\n",
    "    m[d] = m1\n",
    "    return m"
   ]
  },
  {
   "cell_type": "markdown",
   "metadata": {},
   "source": [
    "### Crossover Function"
   ]
  },
  {
   "cell_type": "code",
   "execution_count": 31,
   "metadata": {},
   "outputs": [],
   "source": [
    "def crossover_members(m1, m2):\n",
    "    m2p = [m2[i] for i in range(N)]    \n",
    "    s = random.randrange(N)\n",
    "    q = random.randrange(2, N-1)\n",
    "    m = np.roll(m1, s)\n",
    "    for i in range(q):\n",
    "        m2p.remove(m[i])\n",
    "    \n",
    "    for i in range(q, N):\n",
    "        m[i] = m2p[i-q]\n",
    "\n",
    "    return m"
   ]
  },
  {
   "cell_type": "code",
   "execution_count": 32,
   "metadata": {},
   "outputs": [
    {
     "data": {
      "text/plain": [
       "array([12, 13,  4,  7, 11,  3, 16,  8, 15, 18,  0, 19,  2,  6,  9, 10,  1,\n",
       "       14,  5, 17])"
      ]
     },
     "execution_count": 32,
     "metadata": {},
     "output_type": "execute_result"
    }
   ],
   "source": [
    "population[1]"
   ]
  },
  {
   "cell_type": "code",
   "execution_count": 33,
   "metadata": {},
   "outputs": [
    {
     "data": {
      "text/plain": [
       "array([ 7, 10, 15,  9, 19,  4, 13,  8,  0, 14, 11,  1,  6,  2,  3, 17, 16,\n",
       "       18,  5, 12])"
      ]
     },
     "execution_count": 33,
     "metadata": {},
     "output_type": "execute_result"
    }
   ],
   "source": [
    "population[4]"
   ]
  },
  {
   "cell_type": "code",
   "execution_count": 34,
   "metadata": {},
   "outputs": [
    {
     "data": {
      "text/plain": [
       "array([19,  2,  6,  9, 10,  1, 14,  7, 15,  4, 13,  8,  0, 11,  3, 17, 16,\n",
       "       18,  5, 12])"
      ]
     },
     "execution_count": 34,
     "metadata": {},
     "output_type": "execute_result"
    }
   ],
   "source": [
    "crossover_members(population[1], population[4])"
   ]
  },
  {
   "cell_type": "markdown",
   "metadata": {},
   "source": [
    "### Normalizing function"
   ]
  },
  {
   "cell_type": "markdown",
   "metadata": {},
   "source": [
    "In order to facilitate crossovers and comparaison between members, I will apply a normalizing function. Only function is shift array so\n",
    "each member starts with node 0."
   ]
  },
  {
   "cell_type": "code",
   "execution_count": 35,
   "metadata": {},
   "outputs": [],
   "source": [
    "def normalize_member(m):\n",
    "    zero_pos = 0\n",
    "    for i in range(N):\n",
    "        if m[i] == 0:\n",
    "            zero_pos = i\n",
    "            break\n",
    "    m = np.roll(m, -zero_pos)\n",
    "    return m"
   ]
  },
  {
   "cell_type": "code",
   "execution_count": 36,
   "metadata": {},
   "outputs": [
    {
     "data": {
      "text/plain": [
       "array([ 1, 14, 18,  9,  8,  4,  5,  0, 16, 11, 13,  3, 15,  7, 10,  6, 17,\n",
       "       19, 12,  2])"
      ]
     },
     "execution_count": 36,
     "metadata": {},
     "output_type": "execute_result"
    }
   ],
   "source": [
    "population[5]"
   ]
  },
  {
   "cell_type": "code",
   "execution_count": 37,
   "metadata": {},
   "outputs": [
    {
     "data": {
      "text/plain": [
       "array([ 0, 16, 11, 13,  3, 15,  7, 10,  6, 17, 19, 12,  2,  1, 14, 18,  9,\n",
       "        8,  4,  5])"
      ]
     },
     "execution_count": 37,
     "metadata": {},
     "output_type": "execute_result"
    }
   ],
   "source": [
    "normalize_member(population[5])"
   ]
  },
  {
   "cell_type": "markdown",
   "metadata": {},
   "source": [
    "### Member total distance function"
   ]
  },
  {
   "cell_type": "code",
   "execution_count": 38,
   "metadata": {},
   "outputs": [],
   "source": [
    "def member_total_distance(m):\n",
    "    dist = 0.0\n",
    "    for i in range(N-1):\n",
    "        dist += DD[m[i], m[i+1]]\n",
    "    dist += DD[m[N-1], m[0]]\n",
    "    return dist"
   ]
  },
  {
   "cell_type": "code",
   "execution_count": 39,
   "metadata": {},
   "outputs": [
    {
     "data": {
      "text/plain": [
       "1101.4773009869562"
      ]
     },
     "execution_count": 39,
     "metadata": {},
     "output_type": "execute_result"
    }
   ],
   "source": [
    "member_total_distance(population[5])"
   ]
  },
  {
   "cell_type": "markdown",
   "metadata": {},
   "source": [
    "### Ordering"
   ]
  },
  {
   "cell_type": "code",
   "execution_count": 40,
   "metadata": {},
   "outputs": [],
   "source": [
    "population.sort(key=member_total_distance)"
   ]
  },
  {
   "cell_type": "code",
   "execution_count": 41,
   "metadata": {},
   "outputs": [],
   "source": [
    "#population"
   ]
  },
  {
   "cell_type": "code",
   "execution_count": 42,
   "metadata": {},
   "outputs": [],
   "source": [
    "distances = [member_total_distance(m) for m in population]\n",
    "#distances"
   ]
  },
  {
   "cell_type": "markdown",
   "metadata": {},
   "source": [
    "### Printing"
   ]
  },
  {
   "cell_type": "code",
   "execution_count": 43,
   "metadata": {},
   "outputs": [],
   "source": [
    "def print_results(p, d, n = 10):\n",
    "    for i in range(n):\n",
    "        print(\"# {0:3}: d:{1:.2f}  path: {2}\".format(i, d[i], p[i]))"
   ]
  },
  {
   "cell_type": "markdown",
   "metadata": {},
   "source": [
    "## Algorithm implementation"
   ]
  },
  {
   "cell_type": "code",
   "execution_count": 44,
   "metadata": {},
   "outputs": [],
   "source": [
    "def ga_iteration(population, sorted = True):\n",
    "    new_population = [None for i in range(Z)]\n",
    "    random.seed()\n",
    "    #sorting\n",
    "    if sorted == False:\n",
    "        population.sort(key=member_total_distance)\n",
    "    \n",
    "    for i in range(0, elite_size):\n",
    "        new_population[i] = np.copy(population[i])\n",
    "    \n",
    "    for j in range(elite_size, ramdon_selection_threshold):\n",
    "        p = None\n",
    "        while not p:\n",
    "            p = elite_size + random.weibullvariate(1, 1)*0.5*(Z-elite_size)\n",
    "            p = p if p < Z else None\n",
    "        new_population[j] = mutate_member(np.copy(population[int(p)]), mutation_thereshold)\n",
    "    \n",
    "    for i in range(ramdon_selection_threshold, Z):\n",
    "        a = random.randrange(Z)\n",
    "        b = random.randrange(Z)\n",
    "        new_population[i] = crossover_members(population[a], population[b])\n",
    "    \n",
    "    #mutating\n",
    "    #for i in range(Z):\n",
    "    #    new_population[i] = mutate_member(new_population[i], mutation_thereshold)\n",
    "\n",
    "    #normalizing\n",
    "    for i in range(Z):\n",
    "        new_population[i] = normalize_member(new_population[i])\n",
    "    \n",
    "    #sorting\n",
    "    new_population.sort(key=member_total_distance)\n",
    "    \n",
    "    #distances:\n",
    "    distances = [member_total_distance(m) for m in new_population]\n",
    "    \n",
    "    return new_population, distances"
   ]
  },
  {
   "cell_type": "markdown",
   "metadata": {},
   "source": [
    "### Initial data"
   ]
  },
  {
   "cell_type": "code",
   "execution_count": 45,
   "metadata": {},
   "outputs": [],
   "source": [
    "random.seed(pop_seed)\n",
    "population = [normalize_member(new_member(N)) for i in range(Z)]"
   ]
  },
  {
   "cell_type": "code",
   "execution_count": 46,
   "metadata": {},
   "outputs": [],
   "source": [
    "population.sort(key=member_total_distance)\n",
    "distances  = [member_total_distance(m) for m in population]"
   ]
  },
  {
   "cell_type": "code",
   "execution_count": 47,
   "metadata": {},
   "outputs": [
    {
     "name": "stdout",
     "output_type": "stream",
     "text": [
      "#   0: d:835.44  path: [ 0 18  5 10 11 15  1 12  3  4  7 13  8 16 17  9  6  2 14 19]\n",
      "#   1: d:861.74  path: [ 0 14 11  1  6  2  3 17 16 18  5 12  7 10 15  9 19  4 13  8]\n",
      "#   2: d:894.31  path: [ 0  7 15 12 17 18  5 10  8 14  4 19  1  2 11  6  9  3 16 13]\n",
      "#   3: d:902.62  path: [ 0  9  4 12 18 10  5  3 19 14  8  2  6 13 17  7 16 11 15  1]\n",
      "#   4: d:909.25  path: [ 0  9 16 12  3  4 14 19  1 13 15  8  7 10  6 11  2  5 17 18]\n",
      "#   5: d:914.91  path: [ 0 17  9 12 13 19  8  7 18  3  1 11  4 15  6 14  2 10  5 16]\n",
      "#   6: d:927.75  path: [ 0  9 14 19  5 16  2 18  8  6 13 12 17 11  3 15 10  1  4  7]\n",
      "#   7: d:934.21  path: [ 0 19 16  7  1  6  9 15  2 18 10  5 11  8 14 12 17 13  4  3]\n",
      "#   8: d:950.63  path: [ 0 17 14 16  2  8  6  5 13  9  3 10 11 18  1  4 19 15  7 12]\n",
      "#   9: d:953.40  path: [ 0  7 17 13 14  4 11 10  5 15 19 16  9 12  3  6  2 18  8  1]\n"
     ]
    }
   ],
   "source": [
    "print_results(population, distances)"
   ]
  },
  {
   "cell_type": "markdown",
   "metadata": {},
   "source": [
    "### Iteration"
   ]
  },
  {
   "cell_type": "code",
   "execution_count": 48,
   "metadata": {},
   "outputs": [
    {
     "name": "stdout",
     "output_type": "stream",
     "text": [
      "Iterando...      0 iteraciones Mejor: 804.92  [ 0 18  5 10 11  1 12  3  4  7 13  8 16  6  2 14 19  9 17 15]\n",
      "Iterando...    100 iteraciones Mejor: 475.78  [ 0 16  2  5 18 17  3 14  4  9 19 12 13  7 15  1 11 10  8  6]\n",
      "Iterando...    200 iteraciones Mejor: 380.02  [ 0 16  2  5 18  3 17 14 12  4  9 19 13  7  6 15  1 10 11  8]\n",
      "Iterando...    300 iteraciones Mejor: 380.02  [ 0 16  2  5 18  3 17 14 12  4  9 19 13  7  6 15  1 10 11  8]\n",
      "Iterando...    400 iteraciones Mejor: 380.02  [ 0 16  2  5 18  3 17 14 12  4  9 19 13  7  6 15  1 10 11  8]\n",
      "Iterando...    500 iteraciones Mejor: 380.02  [ 0 16  2  5 18  3 17 14 12  4  9 19 13  7  6 15  1 10 11  8]\n",
      "Iterando...    600 iteraciones Mejor: 380.02  [ 0 16  2  5 18  3 17 14 12  4  9 19 13  7  6 15  1 10 11  8]\n",
      "Iterando...    700 iteraciones Mejor: 380.02  [ 0 16  2  5 18  3 17 14 12  4  9 19 13  7  6 15  1 10 11  8]\n",
      "Iterando...    800 iteraciones Mejor: 380.02  [ 0 16  2  5 18  3 17 14 12  4  9 19 13  7  6 15  1 10 11  8]\n",
      "Iterando...    900 iteraciones Mejor: 380.02  [ 0 16  2  5 18  3 17 14 12  4  9 19 13  7  6 15  1 10 11  8]\n",
      "Iterando...   1000 iteraciones Mejor: 380.02  [ 0 16  2  5 18  3 17 14 12  4  9 19 13  7  6 15  1 10 11  8]\n",
      "Iterando...   1100 iteraciones Mejor: 380.02  [ 0 16  2  5 18  3 17 14 12  4  9 19 13  7  6 15  1 10 11  8]\n",
      "Finalizado\n"
     ]
    }
   ],
   "source": [
    "iterations = 0\n",
    "iterations_update = 100\n",
    "\n",
    "finish = False\n",
    "\n",
    "best = distances[0]\n",
    "iterations_without_update = 0\n",
    "\n",
    "while not finish:\n",
    "    population, distances = ga_iteration(population, True)\n",
    "    \n",
    "    if distances[0] < best:\n",
    "        best = distances[0]\n",
    "        iterations_without_update = 0\n",
    "    else:\n",
    "        iterations_without_update +=1\n",
    "    \n",
    "    if iterations_without_update > max_iterations_without_change:\n",
    "        finish = True\n",
    "    \n",
    "    if iterations % iterations_update == 0:\n",
    "        print(\"Iterando... {0:6} iteraciones Mejor: {1:.2f}  {2}\".format(iterations, best, population[0]))\n",
    "\n",
    "    iterations+=1\n",
    "    \n",
    "print(\"Finalizado\")"
   ]
  },
  {
   "cell_type": "code",
   "execution_count": 49,
   "metadata": {},
   "outputs": [
    {
     "name": "stdout",
     "output_type": "stream",
     "text": [
      "#   0: d:380.02  path: [ 0 16  2  5 18  3 17 14 12  4  9 19 13  7  6 15  1 10 11  8]\n",
      "#   1: d:380.02  path: [ 0 16  2  5 18  3 17 14 12  4 19  9 13  7  6 15  1 10 11  8]\n",
      "#   2: d:380.02  path: [ 0 16  2  5 18  3 17 14 12  4  9 19 13  7  6 15  1 10 11  8]\n",
      "#   3: d:380.02  path: [ 0 16  2  5 18  3 17 14 12  4 19  9 13  7  6 15  1 10 11  8]\n",
      "#   4: d:380.02  path: [ 0 16  2  5 18  3 17 14 12  4 19  9 13  7  6 15  1 10 11  8]\n",
      "#   5: d:380.02  path: [ 0 16  2  5 18  3 17 14 12  4  9 19 13  7  6 15  1 10 11  8]\n",
      "#   6: d:380.02  path: [ 0 16  2  5 18  3 17 14 12  4  9 19 13  7  6 15  1 10 11  8]\n",
      "#   7: d:380.02  path: [ 0 16  2  5 18  3 17 14 12  4  9 19 13  7  6 15  1 10 11  8]\n",
      "#   8: d:380.02  path: [ 0 16  2  5 18  3 17 14 12  4  9 19 13  7  6 15  1 10 11  8]\n",
      "#   9: d:380.02  path: [ 0 16  2  5 18  3 17 14 12  4 19  9 13  7  6 15  1 10 11  8]\n"
     ]
    }
   ],
   "source": [
    "print_results(population, distances)"
   ]
  },
  {
   "cell_type": "code",
   "execution_count": 50,
   "metadata": {},
   "outputs": [],
   "source": [
    "#print_results(population, distances, Z)"
   ]
  },
  {
   "cell_type": "markdown",
   "metadata": {},
   "source": [
    "### Results"
   ]
  },
  {
   "cell_type": "code",
   "execution_count": 51,
   "metadata": {},
   "outputs": [
    {
     "data": {
      "text/plain": [
       "[[(45, 36), (49, 44)],\n",
       " [(49, 44), (73, 55)],\n",
       " [(73, 55), (71, 59)],\n",
       " [(71, 59), (63, 97)],\n",
       " [(63, 97), (22, 82)],\n",
       " [(22, 82), (5, 76)],\n",
       " [(5, 76), (1, 66)],\n",
       " [(1, 66), (16, 50)],\n",
       " [(16, 50), (13, 41)],\n",
       " [(13, 41), (8, 41)],\n",
       " [(8, 41), (8, 41)],\n",
       " [(8, 41), (1, 12)],\n",
       " [(1, 12), (23, 7)],\n",
       " [(23, 7), (36, 5)],\n",
       " [(36, 5), (53, 9)],\n",
       " [(53, 9), (75, 14)],\n",
       " [(75, 14), (99, 13)],\n",
       " [(99, 13), (82, 18)],\n",
       " [(82, 18), (52, 23)],\n",
       " [(52, 23), (45, 36)]]"
      ]
     },
     "execution_count": 51,
     "metadata": {},
     "output_type": "execute_result"
    }
   ],
   "source": [
    "res = population[0]\n",
    "lines = []\n",
    "idxs = []\n",
    "\n",
    "for i in range(N-1):\n",
    "    lines.append([points[res[i]], points[res[i+1]]])\n",
    "lines.append([points[res[N-1]], points[res[0]]])\n",
    "lines"
   ]
  },
  {
   "cell_type": "code",
   "execution_count": 52,
   "metadata": {},
   "outputs": [
    {
     "data": {
      "image/png": "[encoded data removed]",
      "text/plain": [
       "<Figure size 432x288 with 1 Axes>"
      ]
     },
     "metadata": {
      "needs_background": "light"
     },
     "output_type": "display_data"
    }
   ],
   "source": [
    "#lc = mc.LineCollection(lines, colors=c, linewidths=2)\n",
    "lc = mc.LineCollection(lines)\n",
    "fig, ax = pl.subplots()\n",
    "ax.add_collection(lc)\n",
    "\n",
    "ax.autoscale()\n",
    "ax.margins(0.1)\n"
   ]
  },
  {
   "cell_type": "code",
   "execution_count": 53,
   "metadata": {},
   "outputs": [
    {
     "data": {
      "image/png": "[encoded data removed]",
      "text/plain": [
       "<Figure size 432x288 with 1 Axes>"
      ]
     },
     "metadata": {
      "needs_background": "light"
     },
     "output_type": "display_data"
    }
   ],
   "source": [
    "x, y = zip(*points)\n",
    "plt.scatter(x, y)\n",
    "plt.show()"
   ]
  },
  {
   "cell_type": "code",
   "execution_count": null,
   "metadata": {},
   "outputs": [],
   "source": []
  }
 ],
 "metadata": {
  "kernelspec": {
   "display_name": "Python 3",
   "language": "python",
   "name": "python3"
  },
  "language_info": {
   "codemirror_mode": {
    "name": "ipython",
    "version": 3
   },
   "file_extension": ".py",
   "mimetype": "text/x-python",
   "name": "python",
   "nbconvert_exporter": "python",
   "pygments_lexer": "ipython3",
   "version": "3.8.1"
  }
 },
 "nbformat": 4,
 "nbformat_minor": 4
}
